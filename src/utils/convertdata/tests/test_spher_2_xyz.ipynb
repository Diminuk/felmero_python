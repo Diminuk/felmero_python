{
 "cells": [
  {
   "cell_type": "code",
   "execution_count": 67,
   "metadata": {},
   "outputs": [],
   "source": [
    "import numpy as np \n",
    "import matplotlib.pyplot as plt "
   ]
  },
  {
   "cell_type": "code",
   "execution_count": 68,
   "metadata": {},
   "outputs": [
    {
     "data": {
      "text/plain": [
       "(array([[16000, 32000,   500],\n",
       "        [36000, 36000,   500]]),\n",
       " array([[16000, 38500,   500],\n",
       "        [36000, 42500,   500]]))"
      ]
     },
     "execution_count": 68,
     "metadata": {},
     "output_type": "execute_result"
    }
   ],
   "source": [
    "mockup_data = np.array([\n",
    "    [16000,32000, 500],\n",
    "    [36000, 36000, 500]\n",
    "])\n",
    "\n",
    "mockup_data_2 = mockup_data.copy()\n",
    "mockup_data_2[:,1] += 6500\n",
    "mockup_data, mockup_data_2"
   ]
  },
  {
   "cell_type": "code",
   "execution_count": 69,
   "metadata": {},
   "outputs": [],
   "source": [
    "HORIZONTAL_MAX = 228000\n",
    "VERTICAL_MAX = 228000"
   ]
  },
  {
   "cell_type": "code",
   "execution_count": 70,
   "metadata": {},
   "outputs": [
    {
     "data": {
      "text/plain": [
       "np.float64(0.8818505694287138)"
      ]
     },
     "execution_count": 70,
     "metadata": {},
     "output_type": "execute_result"
    }
   ],
   "source": [
    "mockup_data[:][0][1] % HORIZONTAL_MAX  * (2 * np.pi / HORIZONTAL_MAX)"
   ]
  },
  {
   "cell_type": "code",
   "execution_count": 71,
   "metadata": {},
   "outputs": [],
   "source": [
    "def sensor_2_spher(h,v,l):\n",
    "    h_c = h % HORIZONTAL_MAX * (2*np.pi /HORIZONTAL_MAX)\n",
    "    v_c = v % VERTICAL_MAX *(2*np.pi / VERTICAL_MAX)\n",
    "\n",
    "    return h_c, v_c, l"
   ]
  },
  {
   "cell_type": "code",
   "execution_count": 72,
   "metadata": {},
   "outputs": [
    {
     "data": {
      "text/plain": [
       "(array([[4.40925285e-01, 8.81850569e-01, 5.00000000e+02],\n",
       "        [9.92081891e-01, 9.92081891e-01, 5.00000000e+02]]),\n",
       " array([[4.40925285e-01, 1.06097647e+00, 5.00000000e+02],\n",
       "        [9.92081891e-01, 1.17120779e+00, 5.00000000e+02]]))"
      ]
     },
     "execution_count": 72,
     "metadata": {},
     "output_type": "execute_result"
    }
   ],
   "source": [
    "spher1 = []\n",
    "spher2 = []\n",
    "\n",
    "for meas in mockup_data:\n",
    "    spher1.append(sensor_2_spher(meas[0], meas[1], meas[2]))\n",
    "for meas in mockup_data_2:\n",
    "    spher2.append(sensor_2_spher(meas[0], meas[1], meas[2]))\n",
    "\n",
    "spher1, spher2 = np.array(spher1), np.array(spher2)\n",
    "\n",
    "spher1, spher2"
   ]
  },
  {
   "cell_type": "code",
   "execution_count": 73,
   "metadata": {},
   "outputs": [
    {
     "data": {
      "text/plain": [
       "(array([-0.55115661, -0.11023132,  0.        ]),\n",
       " array([-0.55115661, -0.11023132,  0.        ]))"
      ]
     },
     "execution_count": 73,
     "metadata": {},
     "output_type": "execute_result"
    }
   ],
   "source": [
    "spher1[0]-spher1[1], spher2[0]- spher2[1]"
   ]
  },
  {
   "cell_type": "code",
   "execution_count": 74,
   "metadata": {},
   "outputs": [],
   "source": [
    "def spher_2_xyz(h_angle,v_angle,r):\n",
    "    x = r * np.sin(v_angle) * np.cos(h_angle)\n",
    "    y = r * np.sin(v_angle) * np.sin(h_angle)\n",
    "    z = r * np.cos(v_angle)\n",
    "\n",
    "    return x,y,z"
   ]
  },
  {
   "cell_type": "code",
   "execution_count": 75,
   "metadata": {},
   "outputs": [
    {
     "data": {
      "text/plain": [
       "(array([[349.04417536, 164.71791839, 317.8618741 ],\n",
       "        [228.94333166, 350.42385616, 273.47407906]]),\n",
       " array([[394.67613067, 186.25215738, 244.01001158],\n",
       "        [251.93010462, 385.60773141, 194.51966446]]))"
      ]
     },
     "execution_count": 75,
     "metadata": {},
     "output_type": "execute_result"
    }
   ],
   "source": [
    "xyz1 = []\n",
    "xyz2 = []\n",
    "\n",
    "for coord in spher1:\n",
    "    xyz1.append(spher_2_xyz(coord[0], coord[1], coord[2]))\n",
    "for coord in spher2:\n",
    "    xyz2.append(spher_2_xyz(coord[0], coord[1], coord[2]))\n",
    "\n",
    "xyz1, xyz2 = np.array(xyz1), np.array(xyz2)\n",
    "\n",
    "xyz1, xyz2"
   ]
  },
  {
   "cell_type": "code",
   "execution_count": 76,
   "metadata": {},
   "outputs": [
    {
     "data": {
      "text/plain": [
       "(array([ 120.1008437 , -185.70593777,   44.38779504]),\n",
       " array([ 142.74602605, -199.35557403,   49.49034712]))"
      ]
     },
     "execution_count": 76,
     "metadata": {},
     "output_type": "execute_result"
    }
   ],
   "source": [
    "xyz1[0] - xyz1[1], xyz2[0]-xyz2[1]"
   ]
  },
  {
   "cell_type": "code",
   "execution_count": null,
   "metadata": {},
   "outputs": [],
   "source": [
    "import scipy as sp \n",
    "sp."
   ]
  }
 ],
 "metadata": {
  "kernelspec": {
   "display_name": ".venv",
   "language": "python",
   "name": "python3"
  },
  "language_info": {
   "codemirror_mode": {
    "name": "ipython",
    "version": 3
   },
   "file_extension": ".py",
   "mimetype": "text/x-python",
   "name": "python",
   "nbconvert_exporter": "python",
   "pygments_lexer": "ipython3",
   "version": "3.11.9"
  }
 },
 "nbformat": 4,
 "nbformat_minor": 2
}
