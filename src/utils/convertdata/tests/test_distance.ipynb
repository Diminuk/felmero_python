{
 "cells": [
  {
   "cell_type": "code",
   "execution_count": 282,
   "metadata": {},
   "outputs": [],
   "source": [
    "import numpy as np\n",
    "import matplotlib.pyplot\n",
    "import requests"
   ]
  },
  {
   "cell_type": "code",
   "execution_count": 283,
   "metadata": {},
   "outputs": [],
   "source": [
    "HORIZONTAL_MAX = 228000\n",
    "#HORIZONTAL_MAX = 205000\n",
    "VERTICAL_MAX = 228000\n",
    "#VERTICAL_MAX = 205000\n",
    "LENGTH_MAX = 32767\n",
    "LENGTH_MAX_VALUE_MM = 1830 # without offset\n",
    "\n",
    "LENGTH_V_OFFSET = 8543\n",
    "\n",
    "LENGTH_OFFSET = 155\n",
    "LENGTH_OFFSET = 155+35+4\n",
    "\n",
    "HEIGHT_OFFSET = 0\n",
    "\n",
    "\n",
    "\n",
    "\n",
    "ll = np.arange(0,1850,50) + 155+35 - 4\n",
    "fll = np.array([\n",
    "    8527,9137,9759,10429,11082,11751,12406,13088,13763,14456,15095,\n",
    "    15785,16422,17132,17802,18443,19126,19784,20479,21122,\n",
    "    21787,22484,23110,23789,24455,25109,25771,26493,27117,27792,\n",
    "    28446,29146,29813,30477,31137,31804,32472\n",
    "])\n",
    "\n",
    "res = np.polyfit(fll,ll,1)\n",
    "p = np.poly1d(res)\n",
    "\n",
    "\n",
    "def convert_to_spherical(h, v, l):\n",
    "    # Normalize h and v to radians between 0 and 2π using numpy\n",
    "    h_angle = (h % HORIZONTAL_MAX) * (2 * np.pi / HORIZONTAL_MAX)\n",
    "    v_angle = (v % VERTICAL_MAX) * (2 * np.pi / VERTICAL_MAX)\n",
    "    \n",
    "    # Compute the radial distance r\n",
    "    #r = (l - LENGTH_V_OFFSET)*(LENGTH_MAX_VALUE_MM/ (LENGTH_MAX-LENGTH_V_OFFSET)) \n",
    "    r = p(l)\n",
    "    h_angle = np.rad2deg(h_angle)\n",
    "    v_angle = np.rad2deg(v_angle)\n",
    "    \n",
    "\n",
    "    return h_angle, v_angle, r"
   ]
  },
  {
   "cell_type": "code",
   "execution_count": 284,
   "metadata": {},
   "outputs": [
    {
     "name": "stdout",
     "output_type": "stream",
     "text": [
      "[[[55596  4731 24278]\n",
      "  [55636  4449 25319]\n",
      "  [54337  3978 27482]\n",
      "  [55682  3968 27445]\n",
      "  [54453  3765 28545]\n",
      "  [55739  3782 28515]]\n",
      "\n",
      " [[55610  4757 24286]\n",
      "  [55664  4477 25326]\n",
      "  [54373  3968 27482]\n",
      "  [55734  3986 27452]\n",
      "  [54471  3743 28536]\n",
      "  [55764  3752 28508]]\n",
      "\n",
      " [[55615  4758 24286]\n",
      "  [55635  4491 25326]\n",
      "  [54369  3959 27483]\n",
      "  [55727  3979 27446]\n",
      "  [54431  3815 28544]\n",
      "  [55758  3745 28507]]]\n"
     ]
    }
   ],
   "source": [
    "sections = requests.get(\"http://localhost:8000/get-sections\").json()\n",
    "point_calc = []\n",
    "\n",
    "for section in sections:\n",
    "    if len(section.get(\"points\")) > 0:\n",
    "        if section.get(\"name\").find(\"test-1-30-\") > -1:\n",
    "            points = section.get(\"points\")\n",
    "            point_disp = []\n",
    "            for point in points:\n",
    "                h = point.get(\"h\")\n",
    "                v = point.get(\"v\")\n",
    "                l = point.get(\"l\")\n",
    "                point_disp.append([h,v,l])\n",
    "            point_calc.append(point_disp)\n",
    "\n",
    "point_arr = np.array(point_calc)\n",
    "print(point_arr)"
   ]
  },
  {
   "cell_type": "code",
   "execution_count": 285,
   "metadata": {},
   "outputs": [],
   "source": [
    "converted = []\n",
    "for meas in point_arr:\n",
    "    sec = []\n",
    "    for point in meas:\n",
    "        sec.append(convert_to_spherical(point[0], point[1], point[2]))\n",
    "    converted.append(sec)\n",
    "\n",
    "converted = np.array(converted)"
   ]
  },
  {
   "cell_type": "code",
   "execution_count": 286,
   "metadata": {},
   "outputs": [],
   "source": [
    "def calculate_side_c(a: float, b: float, angle_deg: float) -> float:\n",
    "    # Convert angle from degrees to radians\n",
    "    angle_rad = np.radians(angle_deg)\n",
    "    \n",
    "    # Apply the Law of Cosines formula\n",
    "    c = np.sqrt(a**2 + b**2 - 2 * a * b * np.cos(angle_rad))\n",
    "    \n",
    "    return c"
   ]
  },
  {
   "cell_type": "code",
   "execution_count": 287,
   "metadata": {},
   "outputs": [
    {
     "data": {
      "text/plain": [
       "-2.7810000000000024"
      ]
     },
     "execution_count": 287,
     "metadata": {},
     "output_type": "execute_result"
    }
   ],
   "source": [
    "16.929-19.71"
   ]
  },
  {
   "cell_type": "code",
   "execution_count": 288,
   "metadata": {},
   "outputs": [
    {
     "data": {
      "text/plain": [
       "array([[[  87.78315789,    7.47      , 1372.43062622],\n",
       "        [  87.84631579,    7.02473684, 1450.40066375],\n",
       "        [  85.79526316,    6.28105263, 1612.4075717 ],\n",
       "        [  87.91894737,    6.26526316, 1609.63630236],\n",
       "        [  85.97842105,    5.94473684, 1692.025391  ],\n",
       "        [  88.00894737,    5.97157895, 1689.77841586]],\n",
       "\n",
       "       [[  87.80526316,    7.51105263, 1373.0298196 ],\n",
       "        [  87.89052632,    7.06894737, 1450.92495795],\n",
       "        [  85.85210526,    6.26526316, 1612.4075717 ],\n",
       "        [  88.00105263,    6.29368421, 1610.16059656],\n",
       "        [  86.00684211,    5.91      , 1691.35129846],\n",
       "        [  88.04842105,    5.92421053, 1689.25412166]],\n",
       "\n",
       "       [[  87.81315789,    7.51263158, 1373.0298196 ],\n",
       "        [  87.84473684,    7.09105263, 1450.92495795],\n",
       "        [  85.84578947,    6.25105263, 1612.48247087],\n",
       "        [  87.99      ,    6.28263158, 1609.71120153],\n",
       "        [  85.94368421,    6.02368421, 1691.95049183],\n",
       "        [  88.03894737,    5.91315789, 1689.17922249]]])"
      ]
     },
     "execution_count": 288,
     "metadata": {},
     "output_type": "execute_result"
    }
   ],
   "source": [
    "converted"
   ]
  },
  {
   "cell_type": "code",
   "execution_count": 289,
   "metadata": {},
   "outputs": [
    {
     "name": "stdout",
     "output_type": "stream",
     "text": [
      "1 - 2\n",
      "V-diff:0.445263157894737\n",
      "77.98554665952808\n",
      "3 - 4\n",
      "V-diff:0.015789473684210797\n",
      "59.77381798934314\n",
      "5 - 6\n",
      "V-diff:-0.026842105263157556\n",
      "59.96346325311397\n",
      "---------------------\n",
      "1 - 2\n",
      "V-diff:0.44210526315789345\n",
      "77.92345117821637\n",
      "3 - 4\n",
      "V-diff:-0.028421052631578902\n",
      "60.47135824729293\n",
      "5 - 6\n",
      "V-diff:-0.014210526315788563\n",
      "60.26263503236823\n",
      "---------------------\n",
      "1 - 2\n",
      "V-diff:0.4215789473684204\n",
      "77.89902275621799\n",
      "3 - 4\n",
      "V-diff:-0.031578947368421595\n",
      "60.35305448873775\n",
      "5 - 6\n",
      "V-diff:0.1105263157894738\n",
      "61.881292713679656\n",
      "---------------------\n"
     ]
    }
   ],
   "source": [
    "for meas in converted:\n",
    "   for i in range(len(meas)):\n",
    "      if i % 2 == 0:\n",
    "         c = calculate_side_c(meas[i][2], meas[i+1][2], np.abs(meas[i][0] - meas[i+1][0]))\n",
    "         print(f\"{i+1} - {i+2}\")\n",
    "         print(f\"V-diff:{meas[i][1] - meas[i+1][1]}\")\n",
    "         print(c)\n",
    "   print(\"---------------------\")"
   ]
  },
  {
   "cell_type": "code",
   "execution_count": 290,
   "metadata": {},
   "outputs": [],
   "source": [
    "HORIZONTAL_MAX = 228000\n",
    "#HORIZONTAL_MAX = 220000\n",
    "#HORIZONTAL_MAX = 205000\n",
    "VERTICAL_MAX = 228000\n",
    "#VERTICAL_MAX = 220000\n",
    "#VERTICAL_MAX = 205000\n",
    "LENGTH_MAX = 32767\n",
    "LENGTH_MAX_VALUE_MM = 1830 # without offset\n",
    "\n",
    "LENGTH_V_OFFSET = 8530\n",
    "\n",
    "LENGTH_OFFSET = 155\n",
    "LENGTH_OFFSET = 155+35+4\n",
    "\n",
    "HEIGHT_OFFSET = 0\n",
    "\n",
    "\n",
    "ll = np.arange(0,1850,50) + 155+35 - 4\n",
    "fll = np.array([\n",
    "    8527,9137,9759,10429,11082,11751,12406,13088,13763,14456,15095,\n",
    "    15785,16422,17132,17802,18443,19126,19784,20479,21122,\n",
    "    21787,22484,23110,23789,24455,25109,25771,26493,27117,27792,\n",
    "    28446,29146,29813,30477,31137,31804,32472\n",
    "])\n",
    "\n",
    "\n",
    "\n",
    "res = np.polyfit(fll,ll,1)\n",
    "p = np.poly1d(res)\n",
    "\n",
    "def convert_to_xyz(h, v, l):\n",
    "    # Normalize h and v to radians between 0 and 2π using numpy\n",
    "    h_angle = (h % HORIZONTAL_MAX) * (2 * np.pi / HORIZONTAL_MAX)\n",
    "    v_angle = (v % VERTICAL_MAX) * (2 * np.pi / VERTICAL_MAX)\n",
    "\n",
    "    v_angle += np.pi/2\n",
    "\n",
    "    \n",
    "    # Compute the radial distance r\n",
    "    #r = (l - LENGTH_V_OFFSET)*(LENGTH_MAX_VALUE_MM/ (LENGTH_MAX-LENGTH_V_OFFSET)) + LENGTH_OFFSET\n",
    "    r = p(l)\n",
    "    # Convert spherical to Cartesian coordinates\n",
    "    x = r * np.sin(v_angle) * np.cos(h_angle)\n",
    "    y = r * np.sin(v_angle) * np.sin(h_angle)\n",
    "    z = r * np.cos(v_angle)\n",
    "    \n",
    "\n",
    "    return x, y, z"
   ]
  },
  {
   "cell_type": "code",
   "execution_count": 291,
   "metadata": {},
   "outputs": [],
   "source": [
    "xyz = []\n",
    "for meas in point_arr:\n",
    "    sec = []\n",
    "    for point in meas:\n",
    "        sec.append(convert_to_xyz(point[0], point[1], point[2]))\n",
    "    xyz.append(sec)\n",
    "\n",
    "xyz = np.array(xyz)"
   ]
  },
  {
   "cell_type": "code",
   "execution_count": 292,
   "metadata": {},
   "outputs": [
    {
     "name": "stdout",
     "output_type": "stream",
     "text": [
      "1 - 2\n",
      "78.75229243867227\n",
      "3 - 4\n",
      "59.418337304860714\n",
      "5 - 6\n",
      "59.64525361532297\n",
      "---------------------\n",
      "1 - 2\n",
      "78.68039914650181\n",
      "3 - 4\n",
      "60.11435663818201\n",
      "5 - 6\n",
      "59.94341625693296\n",
      "---------------------\n",
      "1 - 2\n",
      "78.58817838184306\n",
      "3 - 4\n",
      "59.99973384926788\n",
      "5 - 6\n",
      "61.632841825234905\n",
      "---------------------\n"
     ]
    }
   ],
   "source": [
    "for meas in xyz:\n",
    "   for i in range(len(meas)):\n",
    "      if i % 2 == 0:\n",
    "         c = np.linalg.norm(meas[i]- meas[i+1])\n",
    "         print(f\"{i+1} - {i+2}\")\n",
    "         print(c)\n",
    "   print(\"---------------------\")"
   ]
  },
  {
   "cell_type": "code",
   "execution_count": 293,
   "metadata": {},
   "outputs": [
    {
     "name": "stdout",
     "output_type": "stream",
     "text": [
      "60.110681236367185\n"
     ]
    }
   ],
   "source": [
    "tmp1_x,tmp1_y,tmp1_z = convert_to_xyz(point_arr[1][2][0],point_arr[1][2][1],point_arr[1][2][2])\n",
    "tmp2_x,tmp2_y,tmp2_z = convert_to_xyz(point_arr[1][3][0],point_arr[1][2][1],point_arr[1][3][2])\n",
    "tmp1 = np.array([tmp1_x,tmp1_y,tmp1_z])\n",
    "tmp2 = np.array([tmp2_x,tmp2_y,tmp2_z])\n",
    "print(np.linalg.norm(tmp1-tmp2))"
   ]
  },
  {
   "cell_type": "code",
   "execution_count": 294,
   "metadata": {},
   "outputs": [],
   "source": [
    "def spher2cart(hangle,vangle,radius):\n",
    "    hangle_rad = np.radians(hangle)\n",
    "    vangle = vangle %180 -90\n",
    "    print(vangle)\n",
    "    vangle_rad = np.radians(vangle)\n",
    "\n",
    "    x = radius * np.sin(vangle_rad) * np.cos(hangle_rad)\n",
    "    y = radius * np.sin(vangle_rad) * np.sin(hangle_rad)\n",
    "    z = radius * np.cos(vangle_rad)\n",
    "\n",
    "    return np.array([x,y,z])"
   ]
  },
  {
   "cell_type": "code",
   "execution_count": 295,
   "metadata": {},
   "outputs": [
    {
     "name": "stdout",
     "output_type": "stream",
     "text": [
      "[  85.85210526    6.26526316 1612.4075717 ]\n",
      "[  88.00105263    6.29368421 1610.16059656]\n",
      "-83.73473684210526\n",
      "-83.73473684210526\n",
      "60.110681236367185\n"
     ]
    }
   ],
   "source": [
    "_ = converted[1][2]\n",
    "__ = converted[1][3]\n",
    "\n",
    "print(_)\n",
    "print(__)\n",
    "\n",
    "xyz1 = spher2cart(_[0],_[1],_[2])\n",
    "xyz2 = spher2cart(__[0],_[1], __[2])\n",
    "\n",
    "print(np.linalg.norm(xyz1-xyz2))"
   ]
  },
  {
   "cell_type": "code",
   "execution_count": 296,
   "metadata": {},
   "outputs": [
    {
     "data": {
      "text/plain": [
       "2.7126400000000004"
      ]
     },
     "execution_count": 296,
     "metadata": {},
     "output_type": "execute_result"
    }
   ],
   "source": [
    "19.8-17.08736"
   ]
  },
  {
   "cell_type": "code",
   "execution_count": 297,
   "metadata": {},
   "outputs": [
    {
     "data": {
      "text/plain": [
       "1.0515179638449068"
      ]
     },
     "execution_count": 297,
     "metadata": {},
     "output_type": "execute_result"
    }
   ],
   "source": [
    "58.34134445703906/55.48297457868641"
   ]
  },
  {
   "cell_type": "code",
   "execution_count": 298,
   "metadata": {},
   "outputs": [
    {
     "data": {
      "text/plain": [
       "1.055386875465218"
      ]
     },
     "execution_count": 298,
     "metadata": {},
     "output_type": "execute_result"
    }
   ],
   "source": [
    "61.6142483774259/58.38072256703604"
   ]
  },
  {
   "cell_type": "code",
   "execution_count": 299,
   "metadata": {},
   "outputs": [
    {
     "data": {
      "text/plain": [
       "1.0592239395545668"
      ]
     },
     "execution_count": 299,
     "metadata": {},
     "output_type": "execute_result"
    }
   ],
   "source": [
    "60.547398520436715/57.16203746858156"
   ]
  },
  {
   "cell_type": "code",
   "execution_count": 300,
   "metadata": {},
   "outputs": [
    {
     "data": {
      "text/plain": [
       "1.0618820895668117"
      ]
     },
     "execution_count": 300,
     "metadata": {},
     "output_type": "execute_result"
    }
   ],
   "source": [
    "60.405615348243735/56.885426302731815"
   ]
  },
  {
   "cell_type": "code",
   "execution_count": null,
   "metadata": {},
   "outputs": [],
   "source": []
  },
  {
   "cell_type": "code",
   "execution_count": null,
   "metadata": {},
   "outputs": [],
   "source": []
  },
  {
   "cell_type": "code",
   "execution_count": null,
   "metadata": {},
   "outputs": [],
   "source": []
  }
 ],
 "metadata": {
  "kernelspec": {
   "display_name": ".venv",
   "language": "python",
   "name": "python3"
  },
  "language_info": {
   "codemirror_mode": {
    "name": "ipython",
    "version": 3
   },
   "file_extension": ".py",
   "mimetype": "text/x-python",
   "name": "python",
   "nbconvert_exporter": "python",
   "pygments_lexer": "ipython3",
   "version": "3.11.9"
  }
 },
 "nbformat": 4,
 "nbformat_minor": 2
}
